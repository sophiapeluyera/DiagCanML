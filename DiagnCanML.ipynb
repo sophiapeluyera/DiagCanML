{
  "nbformat": 4,
  "nbformat_minor": 0,
  "metadata": {
    "colab": {
      "provenance": []
    },
    "kernelspec": {
      "name": "python3",
      "display_name": "Python 3"
    },
    "language_info": {
      "name": "python"
    }
  },
  "cells": [
    {
      "cell_type": "code",
      "source": [
        "# librerias de machine learning y arbol de decision\n",
        "import pandas as pd\n",
        "from sklearn.model_selection import train_test_split\n",
        "from sklearn.tree import DecisionTreeClassifier\n",
        "import gradio as gr #la interfaz\n",
        "\n",
        "# data para entrenar el modelo\n",
        "# 10 combinaciones de data representando 10 tumores diferentes y su clasificacion\n",
        "data = {\n",
        "    'radius_mean': [14.0, 12.0, 15.0, 10.0, 13.0, 16.0, 11.0, 14.5, 15.5, 11.5],\n",
        "    'texture_mean': [20.0, 15.0, 22.0, 14.0, 16.0, 21.0, 13.0, 19.0, 23.0, 12.0],\n",
        "    'diagnosis': ['malignant', 'benign', 'malignant', 'benign', 'benign', 'malignant', 'benign', 'malignant', 'malignant', 'benign']\n",
        "}\n",
        "\n",
        "# variables\n",
        "df = pd.DataFrame(data) #combina los datos de los 10 tumores\n",
        "X = df[['radius_mean', 'texture_mean']] #la combinacion que determina la decision del arbol\n",
        "y = df['diagnosis']\n",
        "\n",
        "#prueba y entrenamiento\n",
        "# 20% de la data es para prueba y se reparte de manera equitativa\n",
        "X_train, X_test, y_train, y_test = train_test_split(X, y, test_size=0.2, random_state=42)\n",
        "\n",
        "#entrenamiento del modelo\n",
        "model = DecisionTreeClassifier() #inicializador del arbol\n",
        "model.fit(X_train, y_train) #usa las variables para aprender\n",
        "\n",
        "#funcion para que devuelva la prediccion\n",
        "def predict_diagnosis(radius, texture):\n",
        "    prediction = model.predict([[radius, texture]])\n",
        "    return prediction[0]\n",
        "\n",
        "#interfaz de gradio\n",
        "demo = gr.Interface(\n",
        "    fn=predict_diagnosis,\n",
        "    inputs=[gr.Number(label=\"Radius Mean\"), gr.Number(label=\"Texture Mean\")],\n",
        "    outputs=gr.Text(label=\"Diagnosis Prediction\"),\n",
        "    title=\"Cancer Diagnosis Predictor\",\n",
        "    description=\"Introduce valores de 'radius_mean' y 'texture_mean' para predecir si el diagnóstico es benigno o maligno.\"\n",
        ")\n",
        "\n",
        "demo.launch(share=True)\n"
      ],
      "metadata": {
        "colab": {
          "base_uri": "https://localhost:8080/",
          "height": 610
        },
        "id": "YTiIVm9P6WFi",
        "outputId": "3f0cafa3-343b-46b4-d6b2-4c2955c86453"
      },
      "execution_count": 2,
      "outputs": [
        {
          "output_type": "stream",
          "name": "stdout",
          "text": [
            "Colab notebook detected. To show errors in colab notebook, set debug=True in launch()\n",
            "* Running on public URL: https://ff3172b80d375c6d2c.gradio.live\n",
            "\n",
            "This share link expires in 1 week. For free permanent hosting and GPU upgrades, run `gradio deploy` from the terminal in the working directory to deploy to Hugging Face Spaces (https://huggingface.co/spaces)\n"
          ]
        },
        {
          "output_type": "display_data",
          "data": {
            "text/plain": [
              "<IPython.core.display.HTML object>"
            ],
            "text/html": [
              "<div><iframe src=\"https://ff3172b80d375c6d2c.gradio.live\" width=\"100%\" height=\"500\" allow=\"autoplay; camera; microphone; clipboard-read; clipboard-write;\" frameborder=\"0\" allowfullscreen></iframe></div>"
            ]
          },
          "metadata": {}
        },
        {
          "output_type": "execute_result",
          "data": {
            "text/plain": []
          },
          "metadata": {},
          "execution_count": 2
        }
      ]
    }
  ]
}